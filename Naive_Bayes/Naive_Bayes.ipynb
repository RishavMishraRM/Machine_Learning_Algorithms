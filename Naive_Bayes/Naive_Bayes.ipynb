{
 "cells": [
  {
   "cell_type": "code",
   "execution_count": 1,
   "metadata": {},
   "outputs": [],
   "source": [
    "import csv\n",
    "import math\n",
    "import random"
   ]
  },
  {
   "cell_type": "code",
   "execution_count": 2,
   "metadata": {},
   "outputs": [],
   "source": [
    "def load_csv(filename):\n",
    "    lines = csv.reader(open(filename, 'r'))\n",
    "    dataset = list(lines)\n",
    "    for i in range(len(dataset)):\n",
    "        dataset[i] = [float(x) for x in dataset[i]]\n",
    "    return dataset"
   ]
  },
  {
   "cell_type": "code",
   "execution_count": 3,
   "metadata": {},
   "outputs": [],
   "source": [
    "def split_dataset(dataset, ratio):\n",
    "    size_of_training_set = int(len(dataset) * ratio)\n",
    "    train_set = []\n",
    "    test_set = list(dataset)\n",
    "\n",
    "    while len(train_set) < size_of_training_set:\n",
    "        index = random.randrange(len(test_set))\n",
    "        train_set.append(test_set.pop(index))\n",
    "    return [train_set, test_set]"
   ]
  },
  {
   "cell_type": "code",
   "execution_count": 4,
   "metadata": {},
   "outputs": [],
   "source": [
    "def separate_by_label(dataset):\n",
    "    separated = {}\n",
    "    for x in range(len(dataset)):\n",
    "        row = dataset[x]\n",
    "        if row[-1] not in separated:\n",
    "            separated[row[-1]] = []\n",
    "        separated[row[-1]].append(row)\n",
    "    return separated"
   ]
  },
  {
   "cell_type": "code",
   "execution_count": 5,
   "metadata": {},
   "outputs": [],
   "source": [
    "def calc_mean(lst):\n",
    "    return sum(lst) / float(len(lst))"
   ]
  },
  {
   "cell_type": "code",
   "execution_count": 6,
   "metadata": {},
   "outputs": [],
   "source": [
    "def calc_standard_deviation(lst):\n",
    "    avg = calc_mean(lst)\n",
    "    variance = sum([pow(x - avg, 2) for x in lst]) / float(len(lst) - 1)\n",
    "    return math.sqrt(variance)"
   ]
  },
  {
   "cell_type": "code",
   "execution_count": 7,
   "metadata": {},
   "outputs": [],
   "source": [
    "def summarize_data(lst):\n",
    "    summaries = [(calc_mean(attribute), calc_standard_deviation(attribute)) for attribute in zip(*lst)]\n",
    "    del summaries[-1]\n",
    "    return summaries"
   ]
  },
  {
   "cell_type": "code",
   "execution_count": 8,
   "metadata": {},
   "outputs": [],
   "source": [
    "def summarize_by_label(data):\n",
    "    separated_data = separate_by_label(data)\n",
    "    summaries = {}\n",
    "    for label, instances in separated_data.items():\n",
    "        summaries[label] = summarize_data(instances)\n",
    "    return summaries"
   ]
  },
  {
   "cell_type": "code",
   "execution_count": 9,
   "metadata": {},
   "outputs": [],
   "source": [
    "def calc_probability(x, mean, standard_deviation):\n",
    "    # e ^ -(y - mean)^2 / (2 * (standard deviation)^2)\n",
    "    exponent = math.exp(-(math.pow(x - mean, 2) / (2 * math.pow(standard_deviation, 2))))\n",
    "    # ( 1 / sqrt(2π) ^ exponent\n",
    "    return (1 / (math.sqrt(2 * math.pi) * standard_deviation)) * exponent"
   ]
  },
  {
   "cell_type": "code",
   "execution_count": 10,
   "metadata": {},
   "outputs": [],
   "source": [
    "def calc_label_probabilities(summaries, input_vector):\n",
    "    probabilities = {}\n",
    "    for label, label_summaries in summaries.items():\n",
    "        probabilities[label] = 1\n",
    "        for i in range(len(label_summaries)):\n",
    "            mean, standard_dev = label_summaries[i]\n",
    "            x = input_vector[i]\n",
    "            probabilities[label] *= calc_probability(x, mean, standard_dev)\n",
    "    return probabilities"
   ]
  },
  {
   "cell_type": "code",
   "execution_count": 11,
   "metadata": {},
   "outputs": [],
   "source": [
    "def predict(summaries, input_vector):\n",
    "    probabilities = calc_label_probabilities(summaries, input_vector)\n",
    "    best_label, best_prob = None, -1\n",
    "    for label, probability in probabilities.items():\n",
    "        if best_label is None or probability > best_prob:\n",
    "            best_prob = probability\n",
    "            best_label = label\n",
    "    return best_label"
   ]
  },
  {
   "cell_type": "code",
   "execution_count": 12,
   "metadata": {},
   "outputs": [],
   "source": [
    "def get_predictions(summaries, test_set):\n",
    "    predictions = []\n",
    "    for i in range(len(test_set)):\n",
    "        result = predict(summaries, test_set[i])\n",
    "        predictions.append(result)\n",
    "    return predictions"
   ]
  },
  {
   "cell_type": "code",
   "execution_count": 13,
   "metadata": {},
   "outputs": [],
   "source": [
    "def get_accuracy(test_set, predictions):\n",
    "    correct = 0\n",
    "    for i in range(len(test_set)):\n",
    "        if test_set[i][-1] == predictions[i]:\n",
    "            correct += 1\n",
    "    return (correct / float(len(test_set))) * 100"
   ]
  },
  {
   "cell_type": "code",
   "execution_count": 15,
   "metadata": {},
   "outputs": [
    {
     "name": "stdout",
     "output_type": "stream",
     "text": [
      "Size of Training Set:  537\n",
      "Size of Testing Set:  231\n",
      "Accuracy: 72.72727272727273%\n"
     ]
    }
   ],
   "source": [
    "def main(filename, split_ratio):\n",
    "    data = load_csv(filename)\n",
    "    training_set, testing_set = split_dataset(data, split_ratio)\n",
    "    print(\"Size of Training Set: \", len(training_set))\n",
    "    print(\"Size of Testing Set: \", len(testing_set))\n",
    "    # create model\n",
    "    summaries = summarize_by_label(training_set)\n",
    "    # test mode\n",
    "    predictions = get_predictions(summaries, testing_set)\n",
    "    accuracy = get_accuracy(testing_set, predictions)\n",
    "    print('Accuracy: {0}%'.format(accuracy))\n",
    "main('pima-indians-diabetes.data.csv', 0.70)"
   ]
  },
  {
   "cell_type": "code",
   "execution_count": null,
   "metadata": {},
   "outputs": [],
   "source": []
  }
 ],
 "metadata": {
  "kernelspec": {
   "display_name": "Python 3",
   "language": "python",
   "name": "python3"
  },
  "language_info": {
   "codemirror_mode": {
    "name": "ipython",
    "version": 3
   },
   "file_extension": ".py",
   "mimetype": "text/x-python",
   "name": "python",
   "nbconvert_exporter": "python",
   "pygments_lexer": "ipython3",
   "version": "3.7.7"
  }
 },
 "nbformat": 4,
 "nbformat_minor": 4
}
